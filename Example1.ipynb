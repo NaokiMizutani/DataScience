{
 "cells": [
  {
   "cell_type": "markdown",
   "metadata": {},
   "source": [
    "# オープンデータを利用したデータ分析例\n",
    "\n",
    "横浜市のオープンデータを利用して、python (pandas, matplotlib) を使ったデータ表示例を示す。"
   ]
  },
  {
   "cell_type": "code",
   "execution_count": 1,
   "metadata": {
    "collapsed": true
   },
   "outputs": [],
   "source": [
    "%matplotlib inline"
   ]
  },
  {
   "cell_type": "code",
   "execution_count": 8,
   "metadata": {
    "collapsed": false
   },
   "outputs": [
    {
     "data": {
      "text/html": [
       "<div>\n",
       "<table border=\"1\" class=\"dataframe\">\n",
       "  <thead>\n",
       "    <tr style=\"text-align: right;\">\n",
       "      <th></th>\n",
       "      <th>﻿年月日</th>\n",
       "      <th>Code</th>\n",
       "      <th>面積[平方キロメートル]</th>\n",
       "      <th>世帯数[世帯]</th>\n",
       "      <th>人口総数[人]</th>\n",
       "      <th>男[人]</th>\n",
       "      <th>女[人]</th>\n",
       "      <th>１世帯当たり人員[人]</th>\n",
       "      <th>人口密度[人/平方キロメートル]</th>\n",
       "      <th>届出による前月比増減の世帯数[世帯]</th>\n",
       "      <th>届出による前月比増減の人口[人]</th>\n",
       "    </tr>\n",
       "    <tr>\n",
       "      <th>市区名</th>\n",
       "      <th></th>\n",
       "      <th></th>\n",
       "      <th></th>\n",
       "      <th></th>\n",
       "      <th></th>\n",
       "      <th></th>\n",
       "      <th></th>\n",
       "      <th></th>\n",
       "      <th></th>\n",
       "      <th></th>\n",
       "      <th></th>\n",
       "    </tr>\n",
       "  </thead>\n",
       "  <tbody>\n",
       "    <tr>\n",
       "      <th>横浜市</th>\n",
       "      <td>2014-12-01</td>\n",
       "      <td>141003</td>\n",
       "      <td>435.21</td>\n",
       "      <td>1632759</td>\n",
       "      <td>3711631</td>\n",
       "      <td>1851182</td>\n",
       "      <td>1860449</td>\n",
       "      <td>2.27</td>\n",
       "      <td>8528</td>\n",
       "      <td>222</td>\n",
       "      <td>91</td>\n",
       "    </tr>\n",
       "    <tr>\n",
       "      <th>鶴見区</th>\n",
       "      <td>2014-12-01</td>\n",
       "      <td>141011</td>\n",
       "      <td>32.38</td>\n",
       "      <td>130652</td>\n",
       "      <td>281849</td>\n",
       "      <td>145903</td>\n",
       "      <td>135946</td>\n",
       "      <td>2.16</td>\n",
       "      <td>8704</td>\n",
       "      <td>39</td>\n",
       "      <td>127</td>\n",
       "    </tr>\n",
       "    <tr>\n",
       "      <th>神奈川区</th>\n",
       "      <td>2014-12-01</td>\n",
       "      <td>141020</td>\n",
       "      <td>23.59</td>\n",
       "      <td>117240</td>\n",
       "      <td>235880</td>\n",
       "      <td>119885</td>\n",
       "      <td>115995</td>\n",
       "      <td>2.01</td>\n",
       "      <td>9999</td>\n",
       "      <td>-22</td>\n",
       "      <td>-28</td>\n",
       "    </tr>\n",
       "  </tbody>\n",
       "</table>\n",
       "</div>"
      ],
      "text/plain": [
       "            ﻿年月日    Code  面積[平方キロメートル]  世帯数[世帯]  人口総数[人]     男[人]     女[人]  \\\n",
       "市区名                                                                          \n",
       "横浜市   2014-12-01  141003        435.21  1632759  3711631  1851182  1860449   \n",
       "鶴見区   2014-12-01  141011         32.38   130652   281849   145903   135946   \n",
       "神奈川区  2014-12-01  141020         23.59   117240   235880   119885   115995   \n",
       "\n",
       "      １世帯当たり人員[人]  人口密度[人/平方キロメートル]  届出による前月比増減の世帯数[世帯]  届出による前月比増減の人口[人]  \n",
       "市区名                                                                        \n",
       "横浜市          2.27              8528                 222                91  \n",
       "鶴見区          2.16              8704                  39               127  \n",
       "神奈川区         2.01              9999                 -22               -28  "
      ]
     },
     "execution_count": 8,
     "metadata": {},
     "output_type": "execute_result"
    }
   ],
   "source": [
    "import pandas\n",
    "\n",
    "data = 'http://www.city.yokohama.lg.jp/ex/stat/opendata/suikei01/e1yokohama1412.csv'\n",
    "df = pandas.read_csv(data, index_col='市区名')\n",
    "df.rename(columns = {'全国地方公共団体コード': 'Code'}, inplace=True)\n",
    "\n",
    "df.head(3)"
   ]
  },
  {
   "cell_type": "code",
   "execution_count": null,
   "metadata": {
    "collapsed": true
   },
   "outputs": [],
   "source": []
  }
 ],
 "metadata": {
  "kernelspec": {
   "display_name": "Python 3",
   "language": "python",
   "name": "python3"
  },
  "language_info": {
   "codemirror_mode": {
    "name": "ipython",
    "version": 3
   },
   "file_extension": ".py",
   "mimetype": "text/x-python",
   "name": "python",
   "nbconvert_exporter": "python",
   "pygments_lexer": "ipython3",
   "version": "3.5.1"
  }
 },
 "nbformat": 4,
 "nbformat_minor": 0
}
